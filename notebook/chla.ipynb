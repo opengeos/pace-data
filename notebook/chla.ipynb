{
 "cells": [
  {
   "cell_type": "code",
   "execution_count": null,
   "metadata": {},
   "outputs": [],
   "source": [
    "import leafmap.maplibregl as leafmap"
   ]
  },
  {
   "cell_type": "code",
   "execution_count": null,
   "metadata": {},
   "outputs": [],
   "source": [
    "m = leafmap.Map(style=\"3d-terrain\")\n",
    "url = \"https://github.com/opengeos/pace-data/releases/download/chla/latest.tif\"\n",
    "m.add_colorbar(cmap=\"jet\", vmin=0, vmax=25, label=\"Chlorophyll-a concentration (mg/m3)\")\n",
    "m.add_layer_control(layer_ids=[\"Chlorophyll-a\"])\n",
    "m.add_cog_layer(url, colormap_name=\"jet\", vmin=0, vmax=25, name=\"Chlorophyll-a\")\n",
    "m.to_html(\"chla.html\", title=\"PACE Chlorophyll-a\")\n",
    "m"
   ]
  }
 ],
 "metadata": {
  "kernelspec": {
   "display_name": "Python 3 (ipykernel)",
   "language": "python",
   "name": "python3"
  },
  "language_info": {
   "codemirror_mode": {
    "name": "ipython",
    "version": 3
   },
   "file_extension": ".py",
   "mimetype": "text/x-python",
   "name": "python",
   "nbconvert_exporter": "python",
   "pygments_lexer": "ipython3",
   "version": "3.11.8"
  }
 },
 "nbformat": 4,
 "nbformat_minor": 4
}
